{
 "cells": [
  {
   "cell_type": "code",
   "execution_count": null,
   "id": "57408381",
   "metadata": {},
   "outputs": [],
   "source": [
    "#Import thư viện và kết nối Neo4j\n",
    "import csv\n",
    "import os\n",
    "from py2neo import Graph, Node\n",
    "graph=Graph(\"bolt://localhost:7687\",auth=(\"neo4j\", \"123456789\"))\n"
   ]
  },
  {
   "cell_type": "code",
   "execution_count": null,
   "id": "7d6e0779",
   "metadata": {},
   "outputs": [],
   "source": [
    "#Load file movies.csv và tạo node Movie\n",
    "def loadMovies():\n",
    "    with open('data/ml-20m/movies.csv', encoding=\"latin-1\") as csvfile:\n",
    "        readCSV = csv.reader(csvfile, delimiter=',')\n",
    "        for i, row in enumerate(readCSV):\n",
    "            createMovieNodes(row)\n",
    "\n",
    "def createMovieNodes(row):\n",
    "    movieData = parseRowMovie(row)\n",
    "    id = movieData[0]\n",
    "    title = movieData[1]\n",
    "    mov = Node(\"Movie\", id=id, title=title)\n",
    "    graph.create(mov)\n",
    "\n",
    "def parseRowMovie(row):\n",
    "        id = row[0]\n",
    "        title = row[1]\n",
    "        return (id, title)\n",
    "loadMovies()\n"
   ]
  },
  {
   "cell_type": "code",
   "execution_count": null,
   "id": "3f5f5bdc",
   "metadata": {},
   "outputs": [],
   "source": [
    "#Load file ratings.csv, tạo node User và tạo quan hệ User - RATED - Movie\n",
    "def createUserNodes(row):\n",
    "    user = Node(\"User\", id=\"User \" + row[0])\n",
    "    graph.merge(user, \"User\", \"id\")\n",
    "\n",
    "def createRatingRelationship(row):\n",
    "    ratingData = parseRowRatingRelationships(row)\n",
    "\n",
    "    graph.run(\n",
    "        'MATCH (u:User {id: $userId}), (m:Movie {id: $movieId}) CREATE (u)-[:RATED { rating: $rating, timestamp: $timestamp }]->(m)',\n",
    "        userId=ratingData[0], movieId=ratingData[1], rating=ratingData[2], timestamp=ratingData[3])\n",
    "\n",
    "def parseRowRatingRelationships(row):\n",
    "    userId = \"User \" + row[0]\n",
    "    movieId = row[1]\n",
    "    rating = float(row[2])\n",
    "    timestamp = row[3]\n",
    "    return (userId, movieId, rating, timestamp)\n",
    "def loadRatings():\n",
    "    with open('data/ml-20m/ratings.csv', encoding=\"latin-1\") as csvfile:\n",
    "        readCSV = csv.reader(csvfile, delimiter=',')\n",
    "        for i,row in enumerate(readCSV):\n",
    "            createUserNodes(row)\n",
    "            createRatingRelationship(row)\n",
    "loadRatings()\n"
   ]
  },
  {
   "cell_type": "code",
   "execution_count": null,
   "id": "5f201ead",
   "metadata": {},
   "outputs": [],
   "source": [
    "# Tạo Index cho các đối tượng\n",
    "graph.run('CREATE INDEX ON :User(id)')\n",
    "graph.run('CREATE INDEX ON :Movie(id)')"
   ]
  }
 ],
 "metadata": {
  "kernelspec": {
   "display_name": "Python 3",
   "language": "python",
   "name": "python3"
  },
  "language_info": {
   "codemirror_mode": {
    "name": "ipython",
    "version": 3
   },
   "file_extension": ".py",
   "mimetype": "text/x-python",
   "name": "python",
   "nbconvert_exporter": "python",
   "pygments_lexer": "ipython3",
   "version": "3.8.8"
  }
 },
 "nbformat": 4,
 "nbformat_minor": 5
}
